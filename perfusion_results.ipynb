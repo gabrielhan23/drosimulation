{
 "cells": [
  {
   "cell_type": "code",
   "execution_count": 1,
   "metadata": {},
   "outputs": [],
   "source": [
    "import glob\n",
    "import os\n",
    "import numpy as np\n",
    "import scipy\n",
    "import matplotlib.pyplot as plt\n",
    "import matplotlib as mpl\n",
    "from mpl_toolkits.axes_grid1.axes_divider import make_axes_locatable\n",
    "import SimpleITK as sitk"
   ]
  },
  {
   "cell_type": "code",
   "execution_count": 2,
   "metadata": {},
   "outputs": [],
   "source": [
    "PATH = '/Users/mona/Library/CloudStorage/Dropbox/0.MAC-SYNC/0.PROJECT/DCE/Data/QuantitativePerfusionStudy/MR_2024-04-09_3541-7954-2013-0143_raw/DCE/S37'\n",
    "\n",
    "# RESULTS = os.path.join(PATH, 't_1_103')"
   ]
  },
  {
   "cell_type": "code",
   "execution_count": 3,
   "metadata": {},
   "outputs": [],
   "source": [
    "plt.rcParams['font.size'] = 16\n",
    "plt.rcParams['font.family'] = 'Arial'\n",
    "plt.rcParams['font.style'] = 'normal'\n",
    "cmap = mpl.cm.get_cmap(\"CMRmap\").copy()\n",
    "cmap.set_bad(color='black')\n",
    "\n",
    "def plot_DCE_results(mask, PS, Ve, Vp, Flow, rmse, Rssq, figsize=(30, 30)):\n",
    "    fig, axes = plt.subplots(1, 6, figsize=figsize)\n",
    "    \n",
    "    up = 99\n",
    "    low = 1\n",
    "    bound = np.percentile(PS[mask==1], [low, up])\n",
    "    PS = np.ma.masked_where(mask == 0, PS)\n",
    "    im0 = axes[0].imshow(PS, cmap=cmap, vmin=bound[0], vmax=bound[1])\n",
    "    axes[0].set_title(f\"PS [{bound[0]:.3f}, {bound[1]:.3f}]\")\n",
    "    axes[0].axis('off')\n",
    "    ax0_divider = make_axes_locatable(axes[0])\n",
    "    cax0 = ax0_divider.append_axes(\"right\", size=\"7%\", pad=\"2%\")\n",
    "    cb0 = fig.colorbar(im0, cax=cax0)\n",
    "\n",
    "    bound = np.percentile(Ve[mask==1], [low, up])\n",
    "    Ve = np.ma.masked_where(mask == 0, Ve)\n",
    "    im1 = axes[1].imshow(Ve, cmap=cmap, vmin=bound[0], vmax=bound[1])\n",
    "    axes[1].set_title(f\"Ve [{bound[0]:.3f}, {bound[1]:.3f}]\")\n",
    "    axes[1].axis('off')\n",
    "    ax1_divider = make_axes_locatable(axes[1])\n",
    "    cax1 = ax1_divider.append_axes(\"right\", size=\"7%\", pad=\"2%\")\n",
    "    cb1 = fig.colorbar(im1, cax=cax1)\n",
    "\n",
    "    bound = np.percentile(Vp[mask==1], [low, up])\n",
    "    Vp = np.ma.masked_where(mask == 0, Vp)\n",
    "    im2 = axes[2].imshow(Vp, cmap=cmap, vmin=bound[0], vmax=bound[1])\n",
    "    axes[2].set_title(f\"Vp [{bound[0]:.3f}, {bound[1]:.3f}]\")\n",
    "    axes[2].axis('off')\n",
    "    ax2_divider = make_axes_locatable(axes[2])\n",
    "    cax2 = ax2_divider.append_axes(\"right\", size=\"7%\", pad=\"2%\")\n",
    "    cb2 = fig.colorbar(im2, cax=cax2)\n",
    "\n",
    "    bound = np.percentile(Flow[mask==1], [low, up])\n",
    "    Flow = np.ma.masked_where(mask == 0, Flow)\n",
    "    im3 = axes[3].imshow(Flow, cmap=cmap, vmin=bound[0], vmax=bound[1])\n",
    "    axes[3].set_title(f\"Flow [{bound[0]:.3f}, {bound[1]:.3f}]\")\n",
    "    axes[3].axis('off')\n",
    "    ax3_divider = make_axes_locatable(axes[3])\n",
    "    cax3 = ax3_divider.append_axes(\"right\", size=\"7%\", pad=\"2%\")\n",
    "    cb3 = fig.colorbar(im3, cax=cax3)\n",
    "\n",
    "    bound = np.percentile(Rssq[mask==1], [low, up])\n",
    "    im4 = axes[4].imshow(Rssq, cmap='jet', vmin=0, vmax=1)\n",
    "    axes[4].set_title(f\"R2 [{bound[0]:.3f}, {bound[1]:.3f}]\")\n",
    "    axes[4].axis('off')\n",
    "    ax4_divider = make_axes_locatable(axes[4])\n",
    "    cax4 = ax4_divider.append_axes(\"right\", size=\"7%\", pad=\"2%\")\n",
    "    cb4 = fig.colorbar(im4, cax=cax4)\n",
    "\n",
    "    bound = np.percentile(rmse[mask==1], [low, up])\n",
    "    im5 = axes[5].imshow(rmse, cmap='jet', vmin=bound[0], vmax=bound[1])\n",
    "    axes[5].set_title(f\"RMSE [{bound[0]:.3f}, {bound[1]:.3f}]\")\n",
    "    axes[5].axis('off')\n",
    "    ax5_divider = make_axes_locatable(axes[5])\n",
    "    cax5 = ax5_divider.append_axes(\"right\", size=\"7%\", pad=\"2%\")\n",
    "    cb5 = fig.colorbar(im5, cax=cax5)\n",
    "    return fig\n"
   ]
  },
  {
   "cell_type": "code",
   "execution_count": 4,
   "metadata": {},
   "outputs": [],
   "source": [
    "ROI = scipy.io.loadmat(os.path.join(PATH, 'MASK', 'S37_ROI.mat'))\n",
    "heart_mask = ROI['HeartMask'].T"
   ]
  },
  {
   "cell_type": "code",
   "execution_count": 10,
   "metadata": {},
   "outputs": [
    {
     "name": "stderr",
     "output_type": "stream",
     "text": [
      "/var/folders/_y/vr196dts14s0b2kmfcbnsgmh0000gn/T/ipykernel_64473/2600314140.py:8: RuntimeWarning: More than 20 figures have been opened. Figures created through the pyplot interface (`matplotlib.pyplot.figure`) are retained until explicitly closed and may consume too much memory. (To control this warning, see the rcParam `figure.max_open_warning`). Consider using `matplotlib.pyplot.close()`.\n",
      "  fig, axes = plt.subplots(1, 6, figsize=figsize)\n"
     ]
    },
    {
     "data": {
      "text/plain": [
       "<Figure size 4320x720 with 0 Axes>"
      ]
     },
     "metadata": {},
     "output_type": "display_data"
    },
    {
     "data": {
      "text/plain": [
       "<Figure size 4320x720 with 0 Axes>"
      ]
     },
     "metadata": {},
     "output_type": "display_data"
    },
    {
     "data": {
      "text/plain": [
       "<Figure size 4320x720 with 0 Axes>"
      ]
     },
     "metadata": {},
     "output_type": "display_data"
    },
    {
     "data": {
      "text/plain": [
       "<Figure size 4320x720 with 0 Axes>"
      ]
     },
     "metadata": {},
     "output_type": "display_data"
    },
    {
     "data": {
      "text/plain": [
       "<Figure size 4320x720 with 0 Axes>"
      ]
     },
     "metadata": {},
     "output_type": "display_data"
    },
    {
     "data": {
      "text/plain": [
       "<Figure size 4320x720 with 0 Axes>"
      ]
     },
     "metadata": {},
     "output_type": "display_data"
    },
    {
     "data": {
      "text/plain": [
       "<Figure size 4320x720 with 0 Axes>"
      ]
     },
     "metadata": {},
     "output_type": "display_data"
    },
    {
     "data": {
      "text/plain": [
       "<Figure size 4320x720 with 0 Axes>"
      ]
     },
     "metadata": {},
     "output_type": "display_data"
    },
    {
     "data": {
      "text/plain": [
       "<Figure size 4320x720 with 0 Axes>"
      ]
     },
     "metadata": {},
     "output_type": "display_data"
    },
    {
     "data": {
      "text/plain": [
       "<Figure size 4320x720 with 0 Axes>"
      ]
     },
     "metadata": {},
     "output_type": "display_data"
    },
    {
     "data": {
      "text/plain": [
       "<Figure size 4320x720 with 0 Axes>"
      ]
     },
     "metadata": {},
     "output_type": "display_data"
    },
    {
     "data": {
      "text/plain": [
       "<Figure size 4320x720 with 0 Axes>"
      ]
     },
     "metadata": {},
     "output_type": "display_data"
    },
    {
     "data": {
      "text/plain": [
       "<Figure size 4320x720 with 0 Axes>"
      ]
     },
     "metadata": {},
     "output_type": "display_data"
    },
    {
     "data": {
      "text/plain": [
       "<Figure size 4320x720 with 0 Axes>"
      ]
     },
     "metadata": {},
     "output_type": "display_data"
    },
    {
     "data": {
      "text/plain": [
       "<Figure size 4320x720 with 0 Axes>"
      ]
     },
     "metadata": {},
     "output_type": "display_data"
    },
    {
     "data": {
      "text/plain": [
       "<Figure size 4320x720 with 0 Axes>"
      ]
     },
     "metadata": {},
     "output_type": "display_data"
    },
    {
     "data": {
      "text/plain": [
       "<Figure size 4320x720 with 0 Axes>"
      ]
     },
     "metadata": {},
     "output_type": "display_data"
    },
    {
     "data": {
      "text/plain": [
       "<Figure size 4320x720 with 0 Axes>"
      ]
     },
     "metadata": {},
     "output_type": "display_data"
    },
    {
     "data": {
      "text/plain": [
       "<Figure size 4320x720 with 0 Axes>"
      ]
     },
     "metadata": {},
     "output_type": "display_data"
    },
    {
     "data": {
      "text/plain": [
       "<Figure size 4320x720 with 0 Axes>"
      ]
     },
     "metadata": {},
     "output_type": "display_data"
    },
    {
     "data": {
      "text/plain": [
       "<Figure size 4320x720 with 0 Axes>"
      ]
     },
     "metadata": {},
     "output_type": "display_data"
    }
   ],
   "source": [
    "RESUTLS_folder = glob.glob(os.path.join(PATH, 't*'))\n",
    "for RESULTS in RESUTLS_folder:\n",
    "    PS = sitk.GetArrayFromImage(sitk.ReadImage(os.path.join(RESULTS, 'PS.nii')))\n",
    "    Rssq = sitk.GetArrayFromImage(sitk.ReadImage(os.path.join(RESULTS, 'Rssq.nii')))\n",
    "    Ve = sitk.GetArrayFromImage(sitk.ReadImage(os.path.join(RESULTS, 've.nii')))\n",
    "    Vp = sitk.GetArrayFromImage(sitk.ReadImage(os.path.join(RESULTS, 'vp.nii')))\n",
    "    Flow = sitk.GetArrayFromImage(sitk.ReadImage(os.path.join(RESULTS, 'Flow.nii')))\n",
    "    Rmse = sitk.GetArrayFromImage(sitk.ReadImage(os.path.join(RESULTS, 'Rmse.nii')))\n",
    "    fig = plot_DCE_results(heart_mask, PS, Ve, Vp, Flow, Rmse, Rssq, figsize=(60, 10))\n",
    "    fig.savefig(os.path.join(RESULTS, 'DCE_results.png'), dpi=300)\n",
    "    fig.clf()"
   ]
  }
 ],
 "metadata": {
  "kernelspec": {
   "display_name": "voxelmorph",
   "language": "python",
   "name": "python3"
  },
  "language_info": {
   "codemirror_mode": {
    "name": "ipython",
    "version": 3
   },
   "file_extension": ".py",
   "mimetype": "text/x-python",
   "name": "python",
   "nbconvert_exporter": "python",
   "pygments_lexer": "ipython3",
   "version": "3.10.8"
  }
 },
 "nbformat": 4,
 "nbformat_minor": 2
}
